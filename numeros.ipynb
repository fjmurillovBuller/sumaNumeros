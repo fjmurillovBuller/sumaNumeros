{
  "nbformat": 4,
  "nbformat_minor": 0,
  "metadata": {
    "colab": {
      "name": "numeros.ipynb",
      "provenance": [],
      "authorship_tag": "ABX9TyOdx+Tox9Ai9rIluZF2Ks8W",
      "include_colab_link": true
    },
    "kernelspec": {
      "name": "python3",
      "display_name": "Python 3"
    }
  },
  "cells": [
    {
      "cell_type": "markdown",
      "metadata": {
        "id": "view-in-github",
        "colab_type": "text"
      },
      "source": [
        "<a href=\"https://colab.research.google.com/github/fjmurillovBuller/sumaNumeros/blob/main/numeros.ipynb\" target=\"_parent\"><img src=\"https://colab.research.google.com/assets/colab-badge.svg\" alt=\"Open In Colab\"/></a>"
      ]
    },
    {
      "cell_type": "code",
      "metadata": {
        "colab": {
          "base_uri": "https://localhost:8080/"
        },
        "id": "iEv3D6qAPwSt",
        "outputId": "4064fd36-8ab9-4879-916b-2d33e60f360e"
      },
      "source": [
        "numero1 = int(input(\"Digite el primer numero: \"))\n",
        "numero2 = int(input(\"Digite el segundo numero: \"))\n",
        "\n",
        "resultado = numero1 / numero2\n",
        "print(f\"El resultado de la division es: {resultado}\")"
      ],
      "execution_count": 1,
      "outputs": [
        {
          "output_type": "stream",
          "text": [
            "Digite el primer numero: 36\n",
            "Digite el segundo numero: 6\n",
            "El resultado de la division es: 6.0\n"
          ],
          "name": "stdout"
        }
      ]
    }
  ]
}