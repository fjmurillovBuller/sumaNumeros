{
  "nbformat": 4,
  "nbformat_minor": 0,
  "metadata": {
    "colab": {
      "name": "numeros.ipynb",
      "provenance": [],
      "collapsed_sections": [],
      "authorship_tag": "ABX9TyP1jwR9z5wMDTztszz/DpOn",
      "include_colab_link": true
    },
    "kernelspec": {
      "name": "python3",
      "display_name": "Python 3"
    }
  },
  "cells": [
    {
      "cell_type": "markdown",
      "metadata": {
        "id": "view-in-github",
        "colab_type": "text"
      },
      "source": [
        "<a href=\"https://colab.research.google.com/github/fjmurillovBuller/sumaNumeros/blob/main/numeros01.ipynb\" target=\"_parent\"><img src=\"https://colab.research.google.com/assets/colab-badge.svg\" alt=\"Open In Colab\"/></a>"
      ]
    },
    {
      "cell_type": "code",
      "metadata": {
        "colab": {
          "base_uri": "https://localhost:8080/"
        },
        "id": "iEv3D6qAPwSt",
        "outputId": "bcc25d8c-d3ab-484c-fe93-7e0cc4578a6d"
      },
      "source": [
        "try: \n",
        "\n",
        "    numero1 = int(input(\"Digite el primer numero: \"))\n",
        "    numero2 = int(input(\"Digite el segundo numero: \"))\n",
        "\n",
        "    resultado = numero1 / numero2\n",
        "    print(f\"El resultado de la division es: {resultado}\")\n",
        "\n",
        "except:\n",
        "        print(\"Dato Ingresado no valido\")   "
      ],
      "execution_count": 8,
      "outputs": [
        {
          "output_type": "stream",
          "text": [
            "Digite el primer numero: 36\n",
            "Digite el segundo numero: 0\n",
            "Dato Ingresado no valido\n"
          ],
          "name": "stdout"
        }
      ]
    }
  ]
}